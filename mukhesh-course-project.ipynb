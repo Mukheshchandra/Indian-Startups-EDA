{
 "cells": [
  {
   "cell_type": "markdown",
   "metadata": {},
   "source": [
    "# Indian Startups Analysis\n",
    "\n",
    "India is a global hub and there are many startups that are emerging as unicorn and competing against the world in various platforms and domains.\n",
    "India registers almost 10000+ private limited every month apart from Sole proprietorship or LLP or Foreign companies with Ministry of Corporate Affairs.\n",
    "Analysing on these data on Location of registration and types of business gives you the trend where the industry is heading towards.\n"
   ]
  },
  {
   "cell_type": "markdown",
   "metadata": {},
   "source": [
    "## Downloading the Dataset\n",
    "\n",
    "We can download the dataset from the kaggel website and we can import it to tyhe jupyter notebook and we can run it or we can use the data from our personal computer or from any website which was in csv form"
   ]
  },
  {
   "cell_type": "code",
   "execution_count": 1,
   "metadata": {},
   "outputs": [],
   "source": [
    "!pip install jovian opendatasets --upgrade --quiet"
   ]
  },
  {
   "cell_type": "markdown",
   "metadata": {},
   "source": [
    "Let's begin by downloading the data, and listing the files within the dataset."
   ]
  },
  {
   "cell_type": "code",
   "execution_count": 2,
   "metadata": {},
   "outputs": [],
   "source": [
    "dataset_url = 'https://www.kaggle.com/bhararthshiviah/indian-startups-2021' "
   ]
  },
  {
   "cell_type": "code",
   "execution_count": 3,
   "metadata": {},
   "outputs": [
    {
     "name": "stdout",
     "output_type": "stream",
     "text": [
      "Please provide your Kaggle credentials to download this dataset. Learn more: http://bit.ly/kaggle-creds\n",
      "Your Kaggle username: mukheshchandra\n",
      "Your Kaggle Key: ········\n"
     ]
    },
    {
     "name": "stderr",
     "output_type": "stream",
     "text": [
      "100%|██████████| 1.70M/1.70M [00:00<00:00, 17.8MB/s]"
     ]
    },
    {
     "name": "stdout",
     "output_type": "stream",
     "text": [
      "Downloading indian-startups-2021.zip to ./indian-startups-2021\n",
      "\n"
     ]
    },
    {
     "name": "stderr",
     "output_type": "stream",
     "text": [
      "\n"
     ]
    }
   ],
   "source": [
    "import opendatasets as od\n",
    "od.download(dataset_url)"
   ]
  },
  {
   "cell_type": "markdown",
   "metadata": {},
   "source": [
    "The dataset has been downloaded and extracted."
   ]
  },
  {
   "cell_type": "code",
   "execution_count": 4,
   "metadata": {},
   "outputs": [],
   "source": [
    "data_dir = './indian-startups-2021'"
   ]
  },
  {
   "cell_type": "code",
   "execution_count": 5,
   "metadata": {},
   "outputs": [
    {
     "data": {
      "text/plain": [
       "['2021_registered_companies.csv']"
      ]
     },
     "execution_count": 5,
     "metadata": {},
     "output_type": "execute_result"
    }
   ],
   "source": [
    "import os\n",
    "os.listdir(data_dir)"
   ]
  },
  {
   "cell_type": "markdown",
   "metadata": {},
   "source": [
    "Let us save and upload our work to Jovian before continuing."
   ]
  },
  {
   "cell_type": "code",
   "execution_count": 6,
   "metadata": {},
   "outputs": [],
   "source": [
    "project_name = \"mukhesh-course-project\""
   ]
  },
  {
   "cell_type": "code",
   "execution_count": 7,
   "metadata": {},
   "outputs": [],
   "source": [
    "!pip install jovian --upgrade -q"
   ]
  },
  {
   "cell_type": "code",
   "execution_count": 8,
   "metadata": {},
   "outputs": [],
   "source": [
    "import jovian"
   ]
  },
  {
   "cell_type": "code",
   "execution_count": 9,
   "metadata": {},
   "outputs": [
    {
     "data": {
      "application/javascript": [
       "window.require && require([\"base/js/namespace\"],function(Jupyter){Jupyter.notebook.save_checkpoint()})"
      ],
      "text/plain": [
       "<IPython.core.display.Javascript object>"
      ]
     },
     "metadata": {},
     "output_type": "display_data"
    },
    {
     "name": "stdout",
     "output_type": "stream",
     "text": [
      "[jovian] Attempting to save notebook..\u001b[0m\n",
      "[jovian] Updating notebook \"mekal-ug/mukhesh-course-project\" on https://jovian.ai\u001b[0m\n",
      "[jovian] Uploading notebook..\u001b[0m\n",
      "[jovian] Uploading additional files...\u001b[0m\n",
      "[jovian] Committed successfully! https://jovian.ai/mekal-ug/mukhesh-course-project\u001b[0m\n"
     ]
    },
    {
     "data": {
      "text/plain": [
       "'https://jovian.ai/mekal-ug/mukhesh-course-project'"
      ]
     },
     "execution_count": 9,
     "metadata": {},
     "output_type": "execute_result"
    }
   ],
   "source": [
    "jovian.commit(project=project_name)"
   ]
  },
  {
   "cell_type": "markdown",
   "metadata": {},
   "source": [
    "## Data Preparation and Cleaning\n",
    "\n",
    " As the dataset contains vast amount of information we are going to import the data and we run it. And we are going to find out the information like number of rows and columns in the dataset and we will manage the null elements . And if needed we are going to add some columns and rows to the dataset.\n",
    "\n"
   ]
  },
  {
   "cell_type": "code",
   "execution_count": 10,
   "metadata": {},
   "outputs": [],
   "source": [
    "#here we are going to import pandas library\n",
    "import pandas as pd"
   ]
  },
  {
   "cell_type": "code",
   "execution_count": 11,
   "metadata": {},
   "outputs": [],
   "source": [
    "#here we are using .read_csv function to load the dataset into data frame using pandas\n",
    "indian_startups = pd.read_csv('./indian-startups-2021/2021_registered_companies.csv')"
   ]
  },
  {
   "cell_type": "code",
   "execution_count": 12,
   "metadata": {},
   "outputs": [
    {
     "data": {
      "text/html": [
       "<div>\n",
       "<style scoped>\n",
       "    .dataframe tbody tr th:only-of-type {\n",
       "        vertical-align: middle;\n",
       "    }\n",
       "\n",
       "    .dataframe tbody tr th {\n",
       "        vertical-align: top;\n",
       "    }\n",
       "\n",
       "    .dataframe thead th {\n",
       "        text-align: right;\n",
       "    }\n",
       "</style>\n",
       "<table border=\"1\" class=\"dataframe\">\n",
       "  <thead>\n",
       "    <tr style=\"text-align: right;\">\n",
       "      <th></th>\n",
       "      <th>company_uid</th>\n",
       "      <th>date_of_registration</th>\n",
       "      <th>month_name</th>\n",
       "      <th>state</th>\n",
       "      <th>roc</th>\n",
       "      <th>category</th>\n",
       "      <th>class</th>\n",
       "      <th>company_type</th>\n",
       "      <th>authorized_capital</th>\n",
       "      <th>paidup_capital</th>\n",
       "      <th>activity_code</th>\n",
       "      <th>activity_description</th>\n",
       "    </tr>\n",
       "  </thead>\n",
       "  <tbody>\n",
       "    <tr>\n",
       "      <th>0</th>\n",
       "      <td>b928b473-d6d6-4b92-a63d-d262bf30c24b</td>\n",
       "      <td>19/01/21</td>\n",
       "      <td>Jan-21</td>\n",
       "      <td>Telangana</td>\n",
       "      <td>RoC-Hyderabad</td>\n",
       "      <td>Company limited by Shares</td>\n",
       "      <td>Private</td>\n",
       "      <td>Non-govt company</td>\n",
       "      <td>1500000.0</td>\n",
       "      <td>102000.0</td>\n",
       "      <td>45309.0</td>\n",
       "      <td>Construction</td>\n",
       "    </tr>\n",
       "    <tr>\n",
       "      <th>1</th>\n",
       "      <td>9696190f-7478-4d61-81f1-fc4eb08cce13</td>\n",
       "      <td>25/01/21</td>\n",
       "      <td>Jan-21</td>\n",
       "      <td>Tamil Nadu</td>\n",
       "      <td>RoC-Chennai</td>\n",
       "      <td>Company limited by Shares</td>\n",
       "      <td>Private</td>\n",
       "      <td>Non-govt company</td>\n",
       "      <td>100000.0</td>\n",
       "      <td>3000.0</td>\n",
       "      <td>74994.0</td>\n",
       "      <td>Business Services</td>\n",
       "    </tr>\n",
       "    <tr>\n",
       "      <th>2</th>\n",
       "      <td>59de4ca1-c15f-4d6d-8de3-03319793c884</td>\n",
       "      <td>14/01/21</td>\n",
       "      <td>Jan-21</td>\n",
       "      <td>Maharashtra</td>\n",
       "      <td>RoC-Pune</td>\n",
       "      <td>Company limited by Shares</td>\n",
       "      <td>Public</td>\n",
       "      <td>Non-govt company</td>\n",
       "      <td>500000.0</td>\n",
       "      <td>500000.0</td>\n",
       "      <td>65990.0</td>\n",
       "      <td>Finance</td>\n",
       "    </tr>\n",
       "    <tr>\n",
       "      <th>3</th>\n",
       "      <td>e28b4caa-b7f9-4faf-8bbe-b12028177417</td>\n",
       "      <td>25/01/21</td>\n",
       "      <td>Jan-21</td>\n",
       "      <td>Telangana</td>\n",
       "      <td>RoC-Hyderabad</td>\n",
       "      <td>Company limited by Shares</td>\n",
       "      <td>Private</td>\n",
       "      <td>Non-govt company</td>\n",
       "      <td>1000000.0</td>\n",
       "      <td>10000.0</td>\n",
       "      <td>72900.0</td>\n",
       "      <td>Business Services</td>\n",
       "    </tr>\n",
       "    <tr>\n",
       "      <th>4</th>\n",
       "      <td>e1861c6f-c2a0-4a89-81e9-b39f11b1b6c6</td>\n",
       "      <td>19/01/21</td>\n",
       "      <td>Jan-21</td>\n",
       "      <td>Jammu &amp; Kashmir</td>\n",
       "      <td>RoC-Jammu</td>\n",
       "      <td>Company limited by Shares</td>\n",
       "      <td>Private</td>\n",
       "      <td>Non-govt company</td>\n",
       "      <td>500000.0</td>\n",
       "      <td>500000.0</td>\n",
       "      <td>72900.0</td>\n",
       "      <td>Business Services</td>\n",
       "    </tr>\n",
       "    <tr>\n",
       "      <th>...</th>\n",
       "      <td>...</td>\n",
       "      <td>...</td>\n",
       "      <td>...</td>\n",
       "      <td>...</td>\n",
       "      <td>...</td>\n",
       "      <td>...</td>\n",
       "      <td>...</td>\n",
       "      <td>...</td>\n",
       "      <td>...</td>\n",
       "      <td>...</td>\n",
       "      <td>...</td>\n",
       "      <td>...</td>\n",
       "    </tr>\n",
       "    <tr>\n",
       "      <th>54889</th>\n",
       "      <td>da22033b-93c5-460d-b08b-8d58c91b2052</td>\n",
       "      <td>30/04/21</td>\n",
       "      <td>Apr-21</td>\n",
       "      <td>Tamil Nadu</td>\n",
       "      <td>RoC-Coimbatore</td>\n",
       "      <td>Company limited by Shares</td>\n",
       "      <td>Private</td>\n",
       "      <td>Non-govt company</td>\n",
       "      <td>100000.0</td>\n",
       "      <td>100000.0</td>\n",
       "      <td>15136.0</td>\n",
       "      <td>Manufacturing (Food stuffs)</td>\n",
       "    </tr>\n",
       "    <tr>\n",
       "      <th>54890</th>\n",
       "      <td>7d744075-e78f-45d0-9b9b-eaaf2b17a4d8</td>\n",
       "      <td>08/04/21</td>\n",
       "      <td>Apr-21</td>\n",
       "      <td>Delhi</td>\n",
       "      <td>RoC-Delhi</td>\n",
       "      <td>Company limited by Shares</td>\n",
       "      <td>Private</td>\n",
       "      <td>Non-govt company</td>\n",
       "      <td>500000.0</td>\n",
       "      <td>1589455.0</td>\n",
       "      <td>72900.0</td>\n",
       "      <td>Business Services</td>\n",
       "    </tr>\n",
       "    <tr>\n",
       "      <th>54891</th>\n",
       "      <td>336796bb-6f67-4f4f-906e-f01605814266</td>\n",
       "      <td>08/04/21</td>\n",
       "      <td>Apr-21</td>\n",
       "      <td>Maharashtra</td>\n",
       "      <td>RoC-Pune</td>\n",
       "      <td>Company limited by Shares</td>\n",
       "      <td>Private</td>\n",
       "      <td>Non-govt company</td>\n",
       "      <td>500000.0</td>\n",
       "      <td>1589455.0</td>\n",
       "      <td>20299.0</td>\n",
       "      <td>Manufacturing (Wood Products)</td>\n",
       "    </tr>\n",
       "    <tr>\n",
       "      <th>54892</th>\n",
       "      <td>e248cdb7-39a9-4b11-b7ff-b967f887cce0</td>\n",
       "      <td>08/04/21</td>\n",
       "      <td>Apr-21</td>\n",
       "      <td>Haryana</td>\n",
       "      <td>RoC-Delhi</td>\n",
       "      <td>Company limited by Shares</td>\n",
       "      <td>Private</td>\n",
       "      <td>Non-govt company</td>\n",
       "      <td>500000.0</td>\n",
       "      <td>1589455.0</td>\n",
       "      <td>33309.0</td>\n",
       "      <td>Manufacturing (Machinery &amp; Equipments)</td>\n",
       "    </tr>\n",
       "    <tr>\n",
       "      <th>54893</th>\n",
       "      <td>53e5ee51-be3d-4acf-a3fc-e55f4b127aab</td>\n",
       "      <td>08/04/21</td>\n",
       "      <td>Apr-21</td>\n",
       "      <td>Delhi</td>\n",
       "      <td>RoC-Delhi</td>\n",
       "      <td>Company limited by Shares</td>\n",
       "      <td>Private</td>\n",
       "      <td>Non-govt company</td>\n",
       "      <td>500000.0</td>\n",
       "      <td>1589455.0</td>\n",
       "      <td>19100.0</td>\n",
       "      <td>Manufacturing (Leather &amp; products thereof)</td>\n",
       "    </tr>\n",
       "  </tbody>\n",
       "</table>\n",
       "<p>54894 rows × 12 columns</p>\n",
       "</div>"
      ],
      "text/plain": [
       "                                company_uid date_of_registration month_name  \\\n",
       "0      b928b473-d6d6-4b92-a63d-d262bf30c24b             19/01/21     Jan-21   \n",
       "1      9696190f-7478-4d61-81f1-fc4eb08cce13             25/01/21     Jan-21   \n",
       "2      59de4ca1-c15f-4d6d-8de3-03319793c884             14/01/21     Jan-21   \n",
       "3      e28b4caa-b7f9-4faf-8bbe-b12028177417             25/01/21     Jan-21   \n",
       "4      e1861c6f-c2a0-4a89-81e9-b39f11b1b6c6             19/01/21     Jan-21   \n",
       "...                                     ...                  ...        ...   \n",
       "54889  da22033b-93c5-460d-b08b-8d58c91b2052             30/04/21     Apr-21   \n",
       "54890  7d744075-e78f-45d0-9b9b-eaaf2b17a4d8             08/04/21     Apr-21   \n",
       "54891  336796bb-6f67-4f4f-906e-f01605814266             08/04/21     Apr-21   \n",
       "54892  e248cdb7-39a9-4b11-b7ff-b967f887cce0             08/04/21     Apr-21   \n",
       "54893  53e5ee51-be3d-4acf-a3fc-e55f4b127aab             08/04/21     Apr-21   \n",
       "\n",
       "                 state             roc                   category    class  \\\n",
       "0            Telangana   RoC-Hyderabad  Company limited by Shares  Private   \n",
       "1           Tamil Nadu     RoC-Chennai  Company limited by Shares  Private   \n",
       "2          Maharashtra        RoC-Pune  Company limited by Shares   Public   \n",
       "3            Telangana   RoC-Hyderabad  Company limited by Shares  Private   \n",
       "4      Jammu & Kashmir       RoC-Jammu  Company limited by Shares  Private   \n",
       "...                ...             ...                        ...      ...   \n",
       "54889       Tamil Nadu  RoC-Coimbatore  Company limited by Shares  Private   \n",
       "54890            Delhi       RoC-Delhi  Company limited by Shares  Private   \n",
       "54891      Maharashtra        RoC-Pune  Company limited by Shares  Private   \n",
       "54892          Haryana       RoC-Delhi  Company limited by Shares  Private   \n",
       "54893            Delhi       RoC-Delhi  Company limited by Shares  Private   \n",
       "\n",
       "           company_type  authorized_capital  paidup_capital  activity_code  \\\n",
       "0      Non-govt company           1500000.0        102000.0        45309.0   \n",
       "1      Non-govt company            100000.0          3000.0        74994.0   \n",
       "2      Non-govt company            500000.0        500000.0        65990.0   \n",
       "3      Non-govt company           1000000.0         10000.0        72900.0   \n",
       "4      Non-govt company            500000.0        500000.0        72900.0   \n",
       "...                 ...                 ...             ...            ...   \n",
       "54889  Non-govt company            100000.0        100000.0        15136.0   \n",
       "54890  Non-govt company            500000.0       1589455.0        72900.0   \n",
       "54891  Non-govt company            500000.0       1589455.0        20299.0   \n",
       "54892  Non-govt company            500000.0       1589455.0        33309.0   \n",
       "54893  Non-govt company            500000.0       1589455.0        19100.0   \n",
       "\n",
       "                             activity_description  \n",
       "0                                    Construction  \n",
       "1                               Business Services  \n",
       "2                                         Finance  \n",
       "3                               Business Services  \n",
       "4                               Business Services  \n",
       "...                                           ...  \n",
       "54889                 Manufacturing (Food stuffs)  \n",
       "54890                           Business Services  \n",
       "54891               Manufacturing (Wood Products)  \n",
       "54892      Manufacturing (Machinery & Equipments)  \n",
       "54893  Manufacturing (Leather & products thereof)  \n",
       "\n",
       "[54894 rows x 12 columns]"
      ]
     },
     "execution_count": 12,
     "metadata": {},
     "output_type": "execute_result"
    }
   ],
   "source": [
    "indian_startups"
   ]
  },
  {
   "cell_type": "code",
   "execution_count": 13,
   "metadata": {},
   "outputs": [
    {
     "data": {
      "text/plain": [
       "(54894, 12)"
      ]
     },
     "execution_count": 13,
     "metadata": {},
     "output_type": "execute_result"
    }
   ],
   "source": [
    "# Here .shape function is used to find out the number of rows and columns in a particular dataframe\n",
    "indian_startups.shape"
   ]
  },
  {
   "cell_type": "code",
   "execution_count": 14,
   "metadata": {},
   "outputs": [
    {
     "data": {
      "text/plain": [
       "pandas.core.frame.DataFrame"
      ]
     },
     "execution_count": 14,
     "metadata": {},
     "output_type": "execute_result"
    }
   ],
   "source": [
    "# Here we are using type() function to find out the type of specific dataset \n",
    "type(indian_startups)"
   ]
  },
  {
   "cell_type": "code",
   "execution_count": 15,
   "metadata": {},
   "outputs": [
    {
     "name": "stdout",
     "output_type": "stream",
     "text": [
      "<class 'pandas.core.frame.DataFrame'>\n",
      "RangeIndex: 54894 entries, 0 to 54893\n",
      "Data columns (total 12 columns):\n",
      " #   Column                Non-Null Count  Dtype  \n",
      "---  ------                --------------  -----  \n",
      " 0   company_uid           54894 non-null  object \n",
      " 1   date_of_registration  54894 non-null  object \n",
      " 2   month_name            54894 non-null  object \n",
      " 3   state                 54894 non-null  object \n",
      " 4   roc                   54894 non-null  object \n",
      " 5   category              54894 non-null  object \n",
      " 6   class                 54894 non-null  object \n",
      " 7   company_type          54894 non-null  object \n",
      " 8   authorized_capital    54894 non-null  float64\n",
      " 9   paidup_capital        54894 non-null  float64\n",
      " 10  activity_code         54894 non-null  float64\n",
      " 11  activity_description  54894 non-null  object \n",
      "dtypes: float64(3), object(9)\n",
      "memory usage: 5.0+ MB\n"
     ]
    }
   ],
   "source": [
    "# Here .info() function gives us the basic information like number of columns, datatype, number of empty elements\n",
    "indian_startups.info()"
   ]
  },
  {
   "cell_type": "code",
   "execution_count": 16,
   "metadata": {},
   "outputs": [
    {
     "data": {
      "text/html": [
       "<div>\n",
       "<style scoped>\n",
       "    .dataframe tbody tr th:only-of-type {\n",
       "        vertical-align: middle;\n",
       "    }\n",
       "\n",
       "    .dataframe tbody tr th {\n",
       "        vertical-align: top;\n",
       "    }\n",
       "\n",
       "    .dataframe thead th {\n",
       "        text-align: right;\n",
       "    }\n",
       "</style>\n",
       "<table border=\"1\" class=\"dataframe\">\n",
       "  <thead>\n",
       "    <tr style=\"text-align: right;\">\n",
       "      <th></th>\n",
       "      <th>authorized_capital</th>\n",
       "      <th>paidup_capital</th>\n",
       "      <th>activity_code</th>\n",
       "    </tr>\n",
       "  </thead>\n",
       "  <tbody>\n",
       "    <tr>\n",
       "      <th>count</th>\n",
       "      <td>5.489400e+04</td>\n",
       "      <td>5.489400e+04</td>\n",
       "      <td>54894.000000</td>\n",
       "    </tr>\n",
       "    <tr>\n",
       "      <th>mean</th>\n",
       "      <td>1.617091e+06</td>\n",
       "      <td>5.860709e+05</td>\n",
       "      <td>52940.032718</td>\n",
       "    </tr>\n",
       "    <tr>\n",
       "      <th>std</th>\n",
       "      <td>5.226937e+07</td>\n",
       "      <td>1.725209e+07</td>\n",
       "      <td>26188.280366</td>\n",
       "    </tr>\n",
       "    <tr>\n",
       "      <th>min</th>\n",
       "      <td>0.000000e+00</td>\n",
       "      <td>0.000000e+00</td>\n",
       "      <td>1100.000000</td>\n",
       "    </tr>\n",
       "    <tr>\n",
       "      <th>25%</th>\n",
       "      <td>1.000000e+05</td>\n",
       "      <td>1.000000e+05</td>\n",
       "      <td>29308.000000</td>\n",
       "    </tr>\n",
       "    <tr>\n",
       "      <th>50%</th>\n",
       "      <td>5.000000e+05</td>\n",
       "      <td>1.000000e+05</td>\n",
       "      <td>60221.000000</td>\n",
       "    </tr>\n",
       "    <tr>\n",
       "      <th>75%</th>\n",
       "      <td>1.000000e+06</td>\n",
       "      <td>1.000000e+05</td>\n",
       "      <td>74300.000000</td>\n",
       "    </tr>\n",
       "    <tr>\n",
       "      <th>max</th>\n",
       "      <td>1.000000e+10</td>\n",
       "      <td>2.600000e+09</td>\n",
       "      <td>99000.000000</td>\n",
       "    </tr>\n",
       "  </tbody>\n",
       "</table>\n",
       "</div>"
      ],
      "text/plain": [
       "       authorized_capital  paidup_capital  activity_code\n",
       "count        5.489400e+04    5.489400e+04   54894.000000\n",
       "mean         1.617091e+06    5.860709e+05   52940.032718\n",
       "std          5.226937e+07    1.725209e+07   26188.280366\n",
       "min          0.000000e+00    0.000000e+00    1100.000000\n",
       "25%          1.000000e+05    1.000000e+05   29308.000000\n",
       "50%          5.000000e+05    1.000000e+05   60221.000000\n",
       "75%          1.000000e+06    1.000000e+05   74300.000000\n",
       "max          1.000000e+10    2.600000e+09   99000.000000"
      ]
     },
     "execution_count": 16,
     "metadata": {},
     "output_type": "execute_result"
    }
   ],
   "source": [
    "# Here we use .describe() function to find the total mean,total count etc\n",
    "indian_startups.describe()"
   ]
  },
  {
   "cell_type": "code",
   "execution_count": 17,
   "metadata": {
    "scrolled": true
   },
   "outputs": [
    {
     "data": {
      "text/plain": [
       "company_uid             0\n",
       "date_of_registration    0\n",
       "month_name              0\n",
       "state                   0\n",
       "roc                     0\n",
       "category                0\n",
       "class                   0\n",
       "company_type            0\n",
       "authorized_capital      0\n",
       "paidup_capital          0\n",
       "activity_code           0\n",
       "activity_description    0\n",
       "dtype: int64"
      ]
     },
     "execution_count": 17,
     "metadata": {},
     "output_type": "execute_result"
    }
   ],
   "source": [
    "# Here .isnull() function is use to find out the number of null elements and \n",
    "# .sum() is used to count the total number of null elements in a particular column\n",
    "indian_startups.isnull().sum()"
   ]
  },
  {
   "cell_type": "code",
   "execution_count": 18,
   "metadata": {},
   "outputs": [
    {
     "data": {
      "text/plain": [
       "Index(['company_uid', 'date_of_registration', 'month_name', 'state', 'roc',\n",
       "       'category', 'class', 'company_type', 'authorized_capital',\n",
       "       'paidup_capital', 'activity_code', 'activity_description'],\n",
       "      dtype='object')"
      ]
     },
     "execution_count": 18,
     "metadata": {},
     "output_type": "execute_result"
    }
   ],
   "source": [
    "# .columns function gives you the names of all the columns present in the data frame\n",
    "indian_startups.columns"
   ]
  },
  {
   "cell_type": "code",
   "execution_count": 19,
   "metadata": {},
   "outputs": [],
   "source": [
    "# here we are using .drop() function to remove a particular row or column , we use axis= 1 to remove a column and we use axis=0 to remove a row\n",
    "ind_df = indian_startups.drop(\"company_uid\", axis=1)"
   ]
  },
  {
   "cell_type": "code",
   "execution_count": 20,
   "metadata": {},
   "outputs": [
    {
     "data": {
      "text/html": [
       "<div>\n",
       "<style scoped>\n",
       "    .dataframe tbody tr th:only-of-type {\n",
       "        vertical-align: middle;\n",
       "    }\n",
       "\n",
       "    .dataframe tbody tr th {\n",
       "        vertical-align: top;\n",
       "    }\n",
       "\n",
       "    .dataframe thead th {\n",
       "        text-align: right;\n",
       "    }\n",
       "</style>\n",
       "<table border=\"1\" class=\"dataframe\">\n",
       "  <thead>\n",
       "    <tr style=\"text-align: right;\">\n",
       "      <th></th>\n",
       "      <th>date_of_registration</th>\n",
       "      <th>month_name</th>\n",
       "      <th>state</th>\n",
       "      <th>roc</th>\n",
       "      <th>category</th>\n",
       "      <th>class</th>\n",
       "      <th>company_type</th>\n",
       "      <th>authorized_capital</th>\n",
       "      <th>paidup_capital</th>\n",
       "      <th>activity_code</th>\n",
       "      <th>activity_description</th>\n",
       "    </tr>\n",
       "  </thead>\n",
       "  <tbody>\n",
       "    <tr>\n",
       "      <th>0</th>\n",
       "      <td>19/01/21</td>\n",
       "      <td>Jan-21</td>\n",
       "      <td>Telangana</td>\n",
       "      <td>RoC-Hyderabad</td>\n",
       "      <td>Company limited by Shares</td>\n",
       "      <td>Private</td>\n",
       "      <td>Non-govt company</td>\n",
       "      <td>1500000.0</td>\n",
       "      <td>102000.0</td>\n",
       "      <td>45309.0</td>\n",
       "      <td>Construction</td>\n",
       "    </tr>\n",
       "    <tr>\n",
       "      <th>1</th>\n",
       "      <td>25/01/21</td>\n",
       "      <td>Jan-21</td>\n",
       "      <td>Tamil Nadu</td>\n",
       "      <td>RoC-Chennai</td>\n",
       "      <td>Company limited by Shares</td>\n",
       "      <td>Private</td>\n",
       "      <td>Non-govt company</td>\n",
       "      <td>100000.0</td>\n",
       "      <td>3000.0</td>\n",
       "      <td>74994.0</td>\n",
       "      <td>Business Services</td>\n",
       "    </tr>\n",
       "    <tr>\n",
       "      <th>2</th>\n",
       "      <td>14/01/21</td>\n",
       "      <td>Jan-21</td>\n",
       "      <td>Maharashtra</td>\n",
       "      <td>RoC-Pune</td>\n",
       "      <td>Company limited by Shares</td>\n",
       "      <td>Public</td>\n",
       "      <td>Non-govt company</td>\n",
       "      <td>500000.0</td>\n",
       "      <td>500000.0</td>\n",
       "      <td>65990.0</td>\n",
       "      <td>Finance</td>\n",
       "    </tr>\n",
       "    <tr>\n",
       "      <th>3</th>\n",
       "      <td>25/01/21</td>\n",
       "      <td>Jan-21</td>\n",
       "      <td>Telangana</td>\n",
       "      <td>RoC-Hyderabad</td>\n",
       "      <td>Company limited by Shares</td>\n",
       "      <td>Private</td>\n",
       "      <td>Non-govt company</td>\n",
       "      <td>1000000.0</td>\n",
       "      <td>10000.0</td>\n",
       "      <td>72900.0</td>\n",
       "      <td>Business Services</td>\n",
       "    </tr>\n",
       "    <tr>\n",
       "      <th>4</th>\n",
       "      <td>19/01/21</td>\n",
       "      <td>Jan-21</td>\n",
       "      <td>Jammu &amp; Kashmir</td>\n",
       "      <td>RoC-Jammu</td>\n",
       "      <td>Company limited by Shares</td>\n",
       "      <td>Private</td>\n",
       "      <td>Non-govt company</td>\n",
       "      <td>500000.0</td>\n",
       "      <td>500000.0</td>\n",
       "      <td>72900.0</td>\n",
       "      <td>Business Services</td>\n",
       "    </tr>\n",
       "    <tr>\n",
       "      <th>...</th>\n",
       "      <td>...</td>\n",
       "      <td>...</td>\n",
       "      <td>...</td>\n",
       "      <td>...</td>\n",
       "      <td>...</td>\n",
       "      <td>...</td>\n",
       "      <td>...</td>\n",
       "      <td>...</td>\n",
       "      <td>...</td>\n",
       "      <td>...</td>\n",
       "      <td>...</td>\n",
       "    </tr>\n",
       "    <tr>\n",
       "      <th>54889</th>\n",
       "      <td>30/04/21</td>\n",
       "      <td>Apr-21</td>\n",
       "      <td>Tamil Nadu</td>\n",
       "      <td>RoC-Coimbatore</td>\n",
       "      <td>Company limited by Shares</td>\n",
       "      <td>Private</td>\n",
       "      <td>Non-govt company</td>\n",
       "      <td>100000.0</td>\n",
       "      <td>100000.0</td>\n",
       "      <td>15136.0</td>\n",
       "      <td>Manufacturing (Food stuffs)</td>\n",
       "    </tr>\n",
       "    <tr>\n",
       "      <th>54890</th>\n",
       "      <td>08/04/21</td>\n",
       "      <td>Apr-21</td>\n",
       "      <td>Delhi</td>\n",
       "      <td>RoC-Delhi</td>\n",
       "      <td>Company limited by Shares</td>\n",
       "      <td>Private</td>\n",
       "      <td>Non-govt company</td>\n",
       "      <td>500000.0</td>\n",
       "      <td>1589455.0</td>\n",
       "      <td>72900.0</td>\n",
       "      <td>Business Services</td>\n",
       "    </tr>\n",
       "    <tr>\n",
       "      <th>54891</th>\n",
       "      <td>08/04/21</td>\n",
       "      <td>Apr-21</td>\n",
       "      <td>Maharashtra</td>\n",
       "      <td>RoC-Pune</td>\n",
       "      <td>Company limited by Shares</td>\n",
       "      <td>Private</td>\n",
       "      <td>Non-govt company</td>\n",
       "      <td>500000.0</td>\n",
       "      <td>1589455.0</td>\n",
       "      <td>20299.0</td>\n",
       "      <td>Manufacturing (Wood Products)</td>\n",
       "    </tr>\n",
       "    <tr>\n",
       "      <th>54892</th>\n",
       "      <td>08/04/21</td>\n",
       "      <td>Apr-21</td>\n",
       "      <td>Haryana</td>\n",
       "      <td>RoC-Delhi</td>\n",
       "      <td>Company limited by Shares</td>\n",
       "      <td>Private</td>\n",
       "      <td>Non-govt company</td>\n",
       "      <td>500000.0</td>\n",
       "      <td>1589455.0</td>\n",
       "      <td>33309.0</td>\n",
       "      <td>Manufacturing (Machinery &amp; Equipments)</td>\n",
       "    </tr>\n",
       "    <tr>\n",
       "      <th>54893</th>\n",
       "      <td>08/04/21</td>\n",
       "      <td>Apr-21</td>\n",
       "      <td>Delhi</td>\n",
       "      <td>RoC-Delhi</td>\n",
       "      <td>Company limited by Shares</td>\n",
       "      <td>Private</td>\n",
       "      <td>Non-govt company</td>\n",
       "      <td>500000.0</td>\n",
       "      <td>1589455.0</td>\n",
       "      <td>19100.0</td>\n",
       "      <td>Manufacturing (Leather &amp; products thereof)</td>\n",
       "    </tr>\n",
       "  </tbody>\n",
       "</table>\n",
       "<p>54894 rows × 11 columns</p>\n",
       "</div>"
      ],
      "text/plain": [
       "      date_of_registration month_name            state             roc  \\\n",
       "0                 19/01/21     Jan-21        Telangana   RoC-Hyderabad   \n",
       "1                 25/01/21     Jan-21       Tamil Nadu     RoC-Chennai   \n",
       "2                 14/01/21     Jan-21      Maharashtra        RoC-Pune   \n",
       "3                 25/01/21     Jan-21        Telangana   RoC-Hyderabad   \n",
       "4                 19/01/21     Jan-21  Jammu & Kashmir       RoC-Jammu   \n",
       "...                    ...        ...              ...             ...   \n",
       "54889             30/04/21     Apr-21       Tamil Nadu  RoC-Coimbatore   \n",
       "54890             08/04/21     Apr-21            Delhi       RoC-Delhi   \n",
       "54891             08/04/21     Apr-21      Maharashtra        RoC-Pune   \n",
       "54892             08/04/21     Apr-21          Haryana       RoC-Delhi   \n",
       "54893             08/04/21     Apr-21            Delhi       RoC-Delhi   \n",
       "\n",
       "                        category    class      company_type  \\\n",
       "0      Company limited by Shares  Private  Non-govt company   \n",
       "1      Company limited by Shares  Private  Non-govt company   \n",
       "2      Company limited by Shares   Public  Non-govt company   \n",
       "3      Company limited by Shares  Private  Non-govt company   \n",
       "4      Company limited by Shares  Private  Non-govt company   \n",
       "...                          ...      ...               ...   \n",
       "54889  Company limited by Shares  Private  Non-govt company   \n",
       "54890  Company limited by Shares  Private  Non-govt company   \n",
       "54891  Company limited by Shares  Private  Non-govt company   \n",
       "54892  Company limited by Shares  Private  Non-govt company   \n",
       "54893  Company limited by Shares  Private  Non-govt company   \n",
       "\n",
       "       authorized_capital  paidup_capital  activity_code  \\\n",
       "0               1500000.0        102000.0        45309.0   \n",
       "1                100000.0          3000.0        74994.0   \n",
       "2                500000.0        500000.0        65990.0   \n",
       "3               1000000.0         10000.0        72900.0   \n",
       "4                500000.0        500000.0        72900.0   \n",
       "...                   ...             ...            ...   \n",
       "54889            100000.0        100000.0        15136.0   \n",
       "54890            500000.0       1589455.0        72900.0   \n",
       "54891            500000.0       1589455.0        20299.0   \n",
       "54892            500000.0       1589455.0        33309.0   \n",
       "54893            500000.0       1589455.0        19100.0   \n",
       "\n",
       "                             activity_description  \n",
       "0                                    Construction  \n",
       "1                               Business Services  \n",
       "2                                         Finance  \n",
       "3                               Business Services  \n",
       "4                               Business Services  \n",
       "...                                           ...  \n",
       "54889                 Manufacturing (Food stuffs)  \n",
       "54890                           Business Services  \n",
       "54891               Manufacturing (Wood Products)  \n",
       "54892      Manufacturing (Machinery & Equipments)  \n",
       "54893  Manufacturing (Leather & products thereof)  \n",
       "\n",
       "[54894 rows x 11 columns]"
      ]
     },
     "execution_count": 20,
     "metadata": {},
     "output_type": "execute_result"
    }
   ],
   "source": [
    "ind_df"
   ]
  },
  {
   "cell_type": "code",
   "execution_count": 21,
   "metadata": {},
   "outputs": [],
   "source": [
    "import jovian"
   ]
  },
  {
   "cell_type": "code",
   "execution_count": 22,
   "metadata": {},
   "outputs": [
    {
     "data": {
      "application/javascript": [
       "window.require && require([\"base/js/namespace\"],function(Jupyter){Jupyter.notebook.save_checkpoint()})"
      ],
      "text/plain": [
       "<IPython.core.display.Javascript object>"
      ]
     },
     "metadata": {},
     "output_type": "display_data"
    },
    {
     "name": "stdout",
     "output_type": "stream",
     "text": [
      "[jovian] Attempting to save notebook..\u001b[0m\n",
      "[jovian] Updating notebook \"mekal-ug/mukhesh-course-project\" on https://jovian.ai\u001b[0m\n",
      "[jovian] Uploading notebook..\u001b[0m\n",
      "[jovian] Uploading additional files...\u001b[0m\n",
      "[jovian] Committed successfully! https://jovian.ai/mekal-ug/mukhesh-course-project\u001b[0m\n"
     ]
    },
    {
     "data": {
      "text/plain": [
       "'https://jovian.ai/mekal-ug/mukhesh-course-project'"
      ]
     },
     "execution_count": 22,
     "metadata": {},
     "output_type": "execute_result"
    }
   ],
   "source": [
    "jovian.commit()"
   ]
  },
  {
   "cell_type": "markdown",
   "metadata": {},
   "source": [
    "## Exploratory Analysis and Visualization\n",
    "\n",
    "Here we need to analyze the data and draw the plots using matplot and seaborn\n",
    "\n"
   ]
  },
  {
   "cell_type": "markdown",
   "metadata": {},
   "source": [
    "Let's begin by importing`matplotlib.pyplot` and `seaborn`."
   ]
  },
  {
   "cell_type": "code",
   "execution_count": 23,
   "metadata": {},
   "outputs": [],
   "source": [
    "import seaborn as sns\n",
    "import matplotlib\n",
    "import matplotlib.pyplot as plt\n",
    "%matplotlib inline\n",
    "\n",
    "sns.set_style('darkgrid')\n",
    "matplotlib.rcParams['font.size'] = 14\n",
    "matplotlib.rcParams['figure.figsize'] = (9, 5)\n",
    "matplotlib.rcParams['figure.facecolor'] = '#00000000'"
   ]
  },
  {
   "cell_type": "markdown",
   "metadata": {},
   "source": [
    "Here we calculated the number of companies belonging to a particular sector and made a countplot on that data"
   ]
  },
  {
   "cell_type": "code",
   "execution_count": 24,
   "metadata": {},
   "outputs": [
    {
     "data": {
      "text/plain": [
       "Private                        50457\n",
       "Private(One Person Company)     3277\n",
       "Public                          1160\n",
       "Name: class, dtype: int64"
      ]
     },
     "execution_count": 24,
     "metadata": {},
     "output_type": "execute_result"
    }
   ],
   "source": [
    "ind_df['class'].value_counts()"
   ]
  },
  {
   "cell_type": "code",
   "execution_count": 25,
   "metadata": {},
   "outputs": [
    {
     "data": {
      "text/plain": [
       "<AxesSubplot:xlabel='class', ylabel='count'>"
      ]
     },
     "execution_count": 25,
     "metadata": {},
     "output_type": "execute_result"
    },
    {
     "data": {
      "image/png": "[encoded data removed]",
      "text/plain": [
       "<Figure size 648x360 with 1 Axes>"
      ]
     },
     "metadata": {
      "needs_background": "light"
     },
     "output_type": "display_data"
    }
   ],
   "source": [
    "sns.countplot(x='class', data= ind_df)"
   ]
  },
  {
   "cell_type": "markdown",
   "metadata": {},
   "source": [
    "Here in the below data we made a group by taking the monthly data and counted the total value . And I plotted scattered plot between monthly data and the category"
   ]
  },
  {
   "cell_type": "code",
   "execution_count": 26,
   "metadata": {},
   "outputs": [
    {
     "data": {
      "text/html": [
       "<div>\n",
       "<style scoped>\n",
       "    .dataframe tbody tr th:only-of-type {\n",
       "        vertical-align: middle;\n",
       "    }\n",
       "\n",
       "    .dataframe tbody tr th {\n",
       "        vertical-align: top;\n",
       "    }\n",
       "\n",
       "    .dataframe thead th {\n",
       "        text-align: right;\n",
       "    }\n",
       "</style>\n",
       "<table border=\"1\" class=\"dataframe\">\n",
       "  <thead>\n",
       "    <tr style=\"text-align: right;\">\n",
       "      <th></th>\n",
       "      <th>month_name</th>\n",
       "      <th>company_uid</th>\n",
       "      <th>date_of_registration</th>\n",
       "      <th>state</th>\n",
       "      <th>roc</th>\n",
       "      <th>category</th>\n",
       "      <th>class</th>\n",
       "      <th>company_type</th>\n",
       "      <th>authorized_capital</th>\n",
       "      <th>paidup_capital</th>\n",
       "      <th>activity_code</th>\n",
       "      <th>activity_description</th>\n",
       "    </tr>\n",
       "  </thead>\n",
       "  <tbody>\n",
       "    <tr>\n",
       "      <th>0</th>\n",
       "      <td>Apr-21</td>\n",
       "      <td>12554</td>\n",
       "      <td>12554</td>\n",
       "      <td>12554</td>\n",
       "      <td>12554</td>\n",
       "      <td>12554</td>\n",
       "      <td>12554</td>\n",
       "      <td>12554</td>\n",
       "      <td>12554</td>\n",
       "      <td>12554</td>\n",
       "      <td>12554</td>\n",
       "      <td>12554</td>\n",
       "    </tr>\n",
       "    <tr>\n",
       "      <th>1</th>\n",
       "      <td>Feb-21</td>\n",
       "      <td>14092</td>\n",
       "      <td>14092</td>\n",
       "      <td>14092</td>\n",
       "      <td>14092</td>\n",
       "      <td>14092</td>\n",
       "      <td>14092</td>\n",
       "      <td>14092</td>\n",
       "      <td>14092</td>\n",
       "      <td>14092</td>\n",
       "      <td>14092</td>\n",
       "      <td>14092</td>\n",
       "    </tr>\n",
       "    <tr>\n",
       "      <th>2</th>\n",
       "      <td>Jan-21</td>\n",
       "      <td>10924</td>\n",
       "      <td>10924</td>\n",
       "      <td>10924</td>\n",
       "      <td>10924</td>\n",
       "      <td>10924</td>\n",
       "      <td>10924</td>\n",
       "      <td>10924</td>\n",
       "      <td>10924</td>\n",
       "      <td>10924</td>\n",
       "      <td>10924</td>\n",
       "      <td>10924</td>\n",
       "    </tr>\n",
       "    <tr>\n",
       "      <th>3</th>\n",
       "      <td>Mar-21</td>\n",
       "      <td>17324</td>\n",
       "      <td>17324</td>\n",
       "      <td>17324</td>\n",
       "      <td>17324</td>\n",
       "      <td>17324</td>\n",
       "      <td>17324</td>\n",
       "      <td>17324</td>\n",
       "      <td>17324</td>\n",
       "      <td>17324</td>\n",
       "      <td>17324</td>\n",
       "      <td>17324</td>\n",
       "    </tr>\n",
       "  </tbody>\n",
       "</table>\n",
       "</div>"
      ],
      "text/plain": [
       "  month_name  company_uid  date_of_registration  state    roc  category  \\\n",
       "0     Apr-21        12554                 12554  12554  12554     12554   \n",
       "1     Feb-21        14092                 14092  14092  14092     14092   \n",
       "2     Jan-21        10924                 10924  10924  10924     10924   \n",
       "3     Mar-21        17324                 17324  17324  17324     17324   \n",
       "\n",
       "   class  company_type  authorized_capital  paidup_capital  activity_code  \\\n",
       "0  12554         12554               12554           12554          12554   \n",
       "1  14092         14092               14092           14092          14092   \n",
       "2  10924         10924               10924           10924          10924   \n",
       "3  17324         17324               17324           17324          17324   \n",
       "\n",
       "   activity_description  \n",
       "0                 12554  \n",
       "1                 14092  \n",
       "2                 10924  \n",
       "3                 17324  "
      ]
     },
     "execution_count": 26,
     "metadata": {},
     "output_type": "execute_result"
    }
   ],
   "source": [
    "most_reg_months= indian_startups.groupby('month_name').count()\n",
    "\n",
    "most_reg_months.sort_values('category', ascending= False)\n",
    "most_reg_months.reset_index(inplace= True)\n",
    "most_reg_months"
   ]
  },
  {
   "cell_type": "code",
   "execution_count": 27,
   "metadata": {},
   "outputs": [
    {
     "name": "stderr",
     "output_type": "stream",
     "text": [
      "/opt/conda/lib/python3.8/site-packages/seaborn/_decorators.py:36: FutureWarning: Pass the following variables as keyword args: x, y. From version 0.12, the only valid positional argument will be `data`, and passing other arguments without an explicit keyword will result in an error or misinterpretation.\n",
      "  warnings.warn(\n"
     ]
    },
    {
     "data": {
      "image/png": "[encoded data removed]",
      "text/plain": [
       "<Figure size 648x360 with 1 Axes>"
      ]
     },
     "metadata": {
      "needs_background": "light"
     },
     "output_type": "display_data"
    }
   ],
   "source": [
    "sns.scatterplot(most_reg_months.month_name, most_reg_months.category);"
   ]
  },
  {
   "cell_type": "markdown",
   "metadata": {},
   "source": [
    "Here i took the data of companies having different activity description and summed up its data and made a bar plot between them"
   ]
  },
  {
   "cell_type": "code",
   "execution_count": 28,
   "metadata": {},
   "outputs": [
    {
     "data": {
      "text/html": [
       "<div>\n",
       "<style scoped>\n",
       "    .dataframe tbody tr th:only-of-type {\n",
       "        vertical-align: middle;\n",
       "    }\n",
       "\n",
       "    .dataframe tbody tr th {\n",
       "        vertical-align: top;\n",
       "    }\n",
       "\n",
       "    .dataframe thead th {\n",
       "        text-align: right;\n",
       "    }\n",
       "</style>\n",
       "<table border=\"1\" class=\"dataframe\">\n",
       "  <thead>\n",
       "    <tr style=\"text-align: right;\">\n",
       "      <th></th>\n",
       "      <th>activity_description</th>\n",
       "      <th>Number</th>\n",
       "    </tr>\n",
       "  </thead>\n",
       "  <tbody>\n",
       "    <tr>\n",
       "      <th>0</th>\n",
       "      <td>Business Services</td>\n",
       "      <td>14805</td>\n",
       "    </tr>\n",
       "    <tr>\n",
       "      <th>1</th>\n",
       "      <td>Community, personal &amp; Social Services</td>\n",
       "      <td>6937</td>\n",
       "    </tr>\n",
       "    <tr>\n",
       "      <th>2</th>\n",
       "      <td>Trading</td>\n",
       "      <td>6861</td>\n",
       "    </tr>\n",
       "    <tr>\n",
       "      <th>3</th>\n",
       "      <td>Agriculture and Allied Activities</td>\n",
       "      <td>4266</td>\n",
       "    </tr>\n",
       "    <tr>\n",
       "      <th>4</th>\n",
       "      <td>Manufacturing (Metals &amp; Chemicals, and product...</td>\n",
       "      <td>3842</td>\n",
       "    </tr>\n",
       "    <tr>\n",
       "      <th>5</th>\n",
       "      <td>Construction</td>\n",
       "      <td>3559</td>\n",
       "    </tr>\n",
       "    <tr>\n",
       "      <th>6</th>\n",
       "      <td>Manufacturing (Food stuffs)</td>\n",
       "      <td>2609</td>\n",
       "    </tr>\n",
       "    <tr>\n",
       "      <th>7</th>\n",
       "      <td>Manufacturing (Machinery &amp; Equipments)</td>\n",
       "      <td>2560</td>\n",
       "    </tr>\n",
       "    <tr>\n",
       "      <th>8</th>\n",
       "      <td>Transport, storage and Communications</td>\n",
       "      <td>1977</td>\n",
       "    </tr>\n",
       "    <tr>\n",
       "      <th>9</th>\n",
       "      <td>Finance</td>\n",
       "      <td>1893</td>\n",
       "    </tr>\n",
       "    <tr>\n",
       "      <th>10</th>\n",
       "      <td>Real Estate and Renting</td>\n",
       "      <td>1848</td>\n",
       "    </tr>\n",
       "    <tr>\n",
       "      <th>11</th>\n",
       "      <td>Manufacturing (Textiles)</td>\n",
       "      <td>1158</td>\n",
       "    </tr>\n",
       "    <tr>\n",
       "      <th>12</th>\n",
       "      <td>Manufacturing (Others)</td>\n",
       "      <td>783</td>\n",
       "    </tr>\n",
       "    <tr>\n",
       "      <th>13</th>\n",
       "      <td>Electricity, Gas &amp; Water companies</td>\n",
       "      <td>550</td>\n",
       "    </tr>\n",
       "    <tr>\n",
       "      <th>14</th>\n",
       "      <td>Manufacturing (Paper &amp; Paper products, Publish...</td>\n",
       "      <td>479</td>\n",
       "    </tr>\n",
       "    <tr>\n",
       "      <th>15</th>\n",
       "      <td>Mining &amp; Quarrying</td>\n",
       "      <td>343</td>\n",
       "    </tr>\n",
       "    <tr>\n",
       "      <th>16</th>\n",
       "      <td>Manufacturing (Paper &amp; Paper products, Publish...</td>\n",
       "      <td>154</td>\n",
       "    </tr>\n",
       "    <tr>\n",
       "      <th>17</th>\n",
       "      <td>Manufacturing (Leather &amp; products thereof)</td>\n",
       "      <td>106</td>\n",
       "    </tr>\n",
       "    <tr>\n",
       "      <th>18</th>\n",
       "      <td>Manufacturing (Wood Products)</td>\n",
       "      <td>105</td>\n",
       "    </tr>\n",
       "    <tr>\n",
       "      <th>19</th>\n",
       "      <td>Insurance</td>\n",
       "      <td>59</td>\n",
       "    </tr>\n",
       "  </tbody>\n",
       "</table>\n",
       "</div>"
      ],
      "text/plain": [
       "                                 activity_description  Number\n",
       "0                                   Business Services   14805\n",
       "1               Community, personal & Social Services    6937\n",
       "2                                             Trading    6861\n",
       "3                   Agriculture and Allied Activities    4266\n",
       "4   Manufacturing (Metals & Chemicals, and product...    3842\n",
       "5                                        Construction    3559\n",
       "6                         Manufacturing (Food stuffs)    2609\n",
       "7              Manufacturing (Machinery & Equipments)    2560\n",
       "8               Transport, storage and Communications    1977\n",
       "9                                             Finance    1893\n",
       "10                            Real Estate and Renting    1848\n",
       "11                           Manufacturing (Textiles)    1158\n",
       "12                             Manufacturing (Others)     783\n",
       "13                 Electricity, Gas & Water companies     550\n",
       "14  Manufacturing (Paper & Paper products, Publish...     479\n",
       "15                                 Mining & Quarrying     343\n",
       "16  Manufacturing (Paper & Paper products, Publish...     154\n",
       "17         Manufacturing (Leather & products thereof)     106\n",
       "18                      Manufacturing (Wood Products)     105\n",
       "19                                          Insurance      59"
      ]
     },
     "execution_count": 28,
     "metadata": {},
     "output_type": "execute_result"
    }
   ],
   "source": [
    "act_df = ind_df['activity_description'].value_counts()\n",
    "act_df = act_df.reset_index()\n",
    "act_df.columns = ['activity_description','Number']\n",
    "act_df\n"
   ]
  },
  {
   "cell_type": "code",
   "execution_count": 29,
   "metadata": {},
   "outputs": [
    {
     "data": {
      "image/png": "[encoded data removed]",
      "text/plain": [
       "<Figure size 648x360 with 1 Axes>"
      ]
     },
     "metadata": {
      "needs_background": "light"
     },
     "output_type": "display_data"
    }
   ],
   "source": [
    "sns.barplot(y = 'activity_description',x = 'Number', data=act_df);\n",
    "sns.set(rc={\"figure.figsize\":(15, 1)})"
   ]
  },
  {
   "cell_type": "markdown",
   "metadata": {},
   "source": [
    "Here i took the total number of companies belonging to the different states and counted them and made a state_df dataframe from  it and I have drawn a line plot between them. "
   ]
  },
  {
   "cell_type": "code",
   "execution_count": 30,
   "metadata": {},
   "outputs": [
    {
     "data": {
      "text/html": [
       "<div>\n",
       "<style scoped>\n",
       "    .dataframe tbody tr th:only-of-type {\n",
       "        vertical-align: middle;\n",
       "    }\n",
       "\n",
       "    .dataframe tbody tr th {\n",
       "        vertical-align: top;\n",
       "    }\n",
       "\n",
       "    .dataframe thead th {\n",
       "        text-align: right;\n",
       "    }\n",
       "</style>\n",
       "<table border=\"1\" class=\"dataframe\">\n",
       "  <thead>\n",
       "    <tr style=\"text-align: right;\">\n",
       "      <th></th>\n",
       "      <th>state</th>\n",
       "      <th>number</th>\n",
       "    </tr>\n",
       "  </thead>\n",
       "  <tbody>\n",
       "    <tr>\n",
       "      <th>0</th>\n",
       "      <td>Maharashtra</td>\n",
       "      <td>7442</td>\n",
       "    </tr>\n",
       "    <tr>\n",
       "      <th>1</th>\n",
       "      <td>Uttar Pradesh</td>\n",
       "      <td>4239</td>\n",
       "    </tr>\n",
       "    <tr>\n",
       "      <th>2</th>\n",
       "      <td>Delhi</td>\n",
       "      <td>4090</td>\n",
       "    </tr>\n",
       "    <tr>\n",
       "      <th>3</th>\n",
       "      <td>Karnataka</td>\n",
       "      <td>3156</td>\n",
       "    </tr>\n",
       "    <tr>\n",
       "      <th>4</th>\n",
       "      <td>Telangana</td>\n",
       "      <td>2720</td>\n",
       "    </tr>\n",
       "    <tr>\n",
       "      <th>5</th>\n",
       "      <td>Tamil Nadu</td>\n",
       "      <td>2654</td>\n",
       "    </tr>\n",
       "    <tr>\n",
       "      <th>6</th>\n",
       "      <td>MH</td>\n",
       "      <td>2635</td>\n",
       "    </tr>\n",
       "    <tr>\n",
       "      <th>7</th>\n",
       "      <td>Gujarat</td>\n",
       "      <td>2222</td>\n",
       "    </tr>\n",
       "    <tr>\n",
       "      <th>8</th>\n",
       "      <td>Haryana</td>\n",
       "      <td>2050</td>\n",
       "    </tr>\n",
       "    <tr>\n",
       "      <th>9</th>\n",
       "      <td>West Bengal</td>\n",
       "      <td>1946</td>\n",
       "    </tr>\n",
       "  </tbody>\n",
       "</table>\n",
       "</div>"
      ],
      "text/plain": [
       "           state  number\n",
       "0    Maharashtra    7442\n",
       "1  Uttar Pradesh    4239\n",
       "2          Delhi    4090\n",
       "3      Karnataka    3156\n",
       "4      Telangana    2720\n",
       "5     Tamil Nadu    2654\n",
       "6             MH    2635\n",
       "7        Gujarat    2222\n",
       "8        Haryana    2050\n",
       "9    West Bengal    1946"
      ]
     },
     "execution_count": 30,
     "metadata": {},
     "output_type": "execute_result"
    }
   ],
   "source": [
    "state_df = ind_df['state'].value_counts()\n",
    "state_df = state_df.reset_index()\n",
    "state_df.columns = ['state', 'number']\n",
    "state_df = state_df.head(10)\n",
    "state_df"
   ]
  },
  {
   "cell_type": "code",
   "execution_count": 31,
   "metadata": {},
   "outputs": [
    {
     "data": {
      "text/plain": [
       "Text(0.5, 1.0, 'Number of regs. from each state')"
      ]
     },
     "execution_count": 31,
     "metadata": {},
     "output_type": "execute_result"
    },
    {
     "data": {
      "image/png": "[encoded data removed]",
      "text/plain": [
       "<Figure size 1080x648 with 1 Axes>"
      ]
     },
     "metadata": {},
     "output_type": "display_data"
    }
   ],
   "source": [
    "plt.figure(figsize=(15,9))\n",
    "plt.plot(state_df.state, state_df.number , 'o-b');\n",
    "plt.xlabel('State')\n",
    "plt.ylabel('Number of registrations')\n",
    "plt.title('Number of regs. from each state')"
   ]
  },
  {
   "cell_type": "markdown",
   "metadata": {},
   "source": [
    "Here i took the data from our original datafram and made another dataframe from it and using .head() function I took the first 10 values and made a pait plot between them."
   ]
  },
  {
   "cell_type": "code",
   "execution_count": 32,
   "metadata": {},
   "outputs": [],
   "source": [
    "ind1_df = ind_df[['date_of_registration', 'state', 'paidup_capital', 'authorized_capital','activity_code']]"
   ]
  },
  {
   "cell_type": "code",
   "execution_count": 33,
   "metadata": {},
   "outputs": [
    {
     "data": {
      "text/html": [
       "<div>\n",
       "<style scoped>\n",
       "    .dataframe tbody tr th:only-of-type {\n",
       "        vertical-align: middle;\n",
       "    }\n",
       "\n",
       "    .dataframe tbody tr th {\n",
       "        vertical-align: top;\n",
       "    }\n",
       "\n",
       "    .dataframe thead th {\n",
       "        text-align: right;\n",
       "    }\n",
       "</style>\n",
       "<table border=\"1\" class=\"dataframe\">\n",
       "  <thead>\n",
       "    <tr style=\"text-align: right;\">\n",
       "      <th></th>\n",
       "      <th>date_of_registration</th>\n",
       "      <th>state</th>\n",
       "      <th>paidup_capital</th>\n",
       "      <th>authorized_capital</th>\n",
       "      <th>activity_code</th>\n",
       "    </tr>\n",
       "  </thead>\n",
       "  <tbody>\n",
       "    <tr>\n",
       "      <th>0</th>\n",
       "      <td>19/01/21</td>\n",
       "      <td>Telangana</td>\n",
       "      <td>102000.0</td>\n",
       "      <td>1500000.0</td>\n",
       "      <td>45309.0</td>\n",
       "    </tr>\n",
       "    <tr>\n",
       "      <th>1</th>\n",
       "      <td>25/01/21</td>\n",
       "      <td>Tamil Nadu</td>\n",
       "      <td>3000.0</td>\n",
       "      <td>100000.0</td>\n",
       "      <td>74994.0</td>\n",
       "    </tr>\n",
       "    <tr>\n",
       "      <th>2</th>\n",
       "      <td>14/01/21</td>\n",
       "      <td>Maharashtra</td>\n",
       "      <td>500000.0</td>\n",
       "      <td>500000.0</td>\n",
       "      <td>65990.0</td>\n",
       "    </tr>\n",
       "    <tr>\n",
       "      <th>3</th>\n",
       "      <td>25/01/21</td>\n",
       "      <td>Telangana</td>\n",
       "      <td>10000.0</td>\n",
       "      <td>1000000.0</td>\n",
       "      <td>72900.0</td>\n",
       "    </tr>\n",
       "    <tr>\n",
       "      <th>4</th>\n",
       "      <td>19/01/21</td>\n",
       "      <td>Jammu &amp; Kashmir</td>\n",
       "      <td>500000.0</td>\n",
       "      <td>500000.0</td>\n",
       "      <td>72900.0</td>\n",
       "    </tr>\n",
       "    <tr>\n",
       "      <th>5</th>\n",
       "      <td>30/01/21</td>\n",
       "      <td>Karnataka</td>\n",
       "      <td>100000.0</td>\n",
       "      <td>100000.0</td>\n",
       "      <td>72900.0</td>\n",
       "    </tr>\n",
       "    <tr>\n",
       "      <th>6</th>\n",
       "      <td>25/01/21</td>\n",
       "      <td>Maharashtra</td>\n",
       "      <td>100000.0</td>\n",
       "      <td>100000.0</td>\n",
       "      <td>72900.0</td>\n",
       "    </tr>\n",
       "    <tr>\n",
       "      <th>7</th>\n",
       "      <td>04/01/21</td>\n",
       "      <td>Uttar Pradesh</td>\n",
       "      <td>100000.0</td>\n",
       "      <td>500000.0</td>\n",
       "      <td>45202.0</td>\n",
       "    </tr>\n",
       "    <tr>\n",
       "      <th>8</th>\n",
       "      <td>12/01/21</td>\n",
       "      <td>Maharashtra</td>\n",
       "      <td>100000.0</td>\n",
       "      <td>500000.0</td>\n",
       "      <td>26990.0</td>\n",
       "    </tr>\n",
       "    <tr>\n",
       "      <th>9</th>\n",
       "      <td>08/01/21</td>\n",
       "      <td>Maharashtra</td>\n",
       "      <td>100000.0</td>\n",
       "      <td>500000.0</td>\n",
       "      <td>22219.0</td>\n",
       "    </tr>\n",
       "  </tbody>\n",
       "</table>\n",
       "</div>"
      ],
      "text/plain": [
       "  date_of_registration            state  paidup_capital  authorized_capital  \\\n",
       "0             19/01/21        Telangana        102000.0           1500000.0   \n",
       "1             25/01/21       Tamil Nadu          3000.0            100000.0   \n",
       "2             14/01/21      Maharashtra        500000.0            500000.0   \n",
       "3             25/01/21        Telangana         10000.0           1000000.0   \n",
       "4             19/01/21  Jammu & Kashmir        500000.0            500000.0   \n",
       "5             30/01/21        Karnataka        100000.0            100000.0   \n",
       "6             25/01/21      Maharashtra        100000.0            100000.0   \n",
       "7             04/01/21    Uttar Pradesh        100000.0            500000.0   \n",
       "8             12/01/21      Maharashtra        100000.0            500000.0   \n",
       "9             08/01/21      Maharashtra        100000.0            500000.0   \n",
       "\n",
       "   activity_code  \n",
       "0        45309.0  \n",
       "1        74994.0  \n",
       "2        65990.0  \n",
       "3        72900.0  \n",
       "4        72900.0  \n",
       "5        72900.0  \n",
       "6        72900.0  \n",
       "7        45202.0  \n",
       "8        26990.0  \n",
       "9        22219.0  "
      ]
     },
     "execution_count": 33,
     "metadata": {},
     "output_type": "execute_result"
    }
   ],
   "source": [
    "ind1_df = ind1_df.head(10)\n",
    "ind1_df"
   ]
  },
  {
   "cell_type": "code",
   "execution_count": 34,
   "metadata": {},
   "outputs": [
    {
     "data": {
      "image/png": "[encoded data removed]",
      "text/plain": [
       "<Figure size 540x540 with 12 Axes>"
      ]
     },
     "metadata": {},
     "output_type": "display_data"
    }
   ],
   "source": [
    "sns.pairplot(ind1_df);"
   ]
  },
  {
   "cell_type": "code",
   "execution_count": 35,
   "metadata": {},
   "outputs": [],
   "source": [
    "import jovian"
   ]
  },
  {
   "cell_type": "code",
   "execution_count": 36,
   "metadata": {},
   "outputs": [
    {
     "data": {
      "application/javascript": [
       "window.require && require([\"base/js/namespace\"],function(Jupyter){Jupyter.notebook.save_checkpoint()})"
      ],
      "text/plain": [
       "<IPython.core.display.Javascript object>"
      ]
     },
     "metadata": {},
     "output_type": "display_data"
    },
    {
     "name": "stdout",
     "output_type": "stream",
     "text": [
      "[jovian] Attempting to save notebook..\u001b[0m\n",
      "[jovian] Updating notebook \"mekal-ug/mukhesh-course-project\" on https://jovian.ai\u001b[0m\n",
      "[jovian] Uploading notebook..\u001b[0m\n",
      "[jovian] Uploading additional files...\u001b[0m\n",
      "[jovian] Committed successfully! https://jovian.ai/mekal-ug/mukhesh-course-project\u001b[0m\n"
     ]
    },
    {
     "data": {
      "text/plain": [
       "'https://jovian.ai/mekal-ug/mukhesh-course-project'"
      ]
     },
     "execution_count": 36,
     "metadata": {},
     "output_type": "execute_result"
    }
   ],
   "source": [
    "jovian.commit()"
   ]
  },
  {
   "cell_type": "markdown",
   "metadata": {},
   "source": [
    "## Asking and Answering Questions\n",
    "\n",
    "\n"
   ]
  },
  {
   "cell_type": "markdown",
   "metadata": {},
   "source": [
    "#### Q1: Which state has highest paidup capital?"
   ]
  },
  {
   "cell_type": "code",
   "execution_count": 37,
   "metadata": {},
   "outputs": [
    {
     "data": {
      "text/html": [
       "<div>\n",
       "<style scoped>\n",
       "    .dataframe tbody tr th:only-of-type {\n",
       "        vertical-align: middle;\n",
       "    }\n",
       "\n",
       "    .dataframe tbody tr th {\n",
       "        vertical-align: top;\n",
       "    }\n",
       "\n",
       "    .dataframe thead th {\n",
       "        text-align: right;\n",
       "    }\n",
       "</style>\n",
       "<table border=\"1\" class=\"dataframe\">\n",
       "  <thead>\n",
       "    <tr style=\"text-align: right;\">\n",
       "      <th></th>\n",
       "      <th>state</th>\n",
       "      <th>paidup_capital</th>\n",
       "    </tr>\n",
       "  </thead>\n",
       "  <tbody>\n",
       "    <tr>\n",
       "      <th>0</th>\n",
       "      <td>Maharashtra</td>\n",
       "      <td>2.600000e+09</td>\n",
       "    </tr>\n",
       "    <tr>\n",
       "      <th>1</th>\n",
       "      <td>Maharashtra</td>\n",
       "      <td>2.156355e+09</td>\n",
       "    </tr>\n",
       "    <tr>\n",
       "      <th>2</th>\n",
       "      <td>Delhi</td>\n",
       "      <td>1.120000e+09</td>\n",
       "    </tr>\n",
       "    <tr>\n",
       "      <th>3</th>\n",
       "      <td>Telangana</td>\n",
       "      <td>1.000000e+09</td>\n",
       "    </tr>\n",
       "    <tr>\n",
       "      <th>4</th>\n",
       "      <td>Maharashtra</td>\n",
       "      <td>7.694432e+08</td>\n",
       "    </tr>\n",
       "    <tr>\n",
       "      <th>5</th>\n",
       "      <td>Tamil Nadu</td>\n",
       "      <td>5.000000e+08</td>\n",
       "    </tr>\n",
       "    <tr>\n",
       "      <th>6</th>\n",
       "      <td>Uttarakhand</td>\n",
       "      <td>5.000000e+08</td>\n",
       "    </tr>\n",
       "    <tr>\n",
       "      <th>7</th>\n",
       "      <td>DL</td>\n",
       "      <td>5.000000e+08</td>\n",
       "    </tr>\n",
       "    <tr>\n",
       "      <th>8</th>\n",
       "      <td>MH</td>\n",
       "      <td>4.920000e+08</td>\n",
       "    </tr>\n",
       "    <tr>\n",
       "      <th>9</th>\n",
       "      <td>Haryana</td>\n",
       "      <td>3.500000e+08</td>\n",
       "    </tr>\n",
       "  </tbody>\n",
       "</table>\n",
       "</div>"
      ],
      "text/plain": [
       "         state  paidup_capital\n",
       "0  Maharashtra    2.600000e+09\n",
       "1  Maharashtra    2.156355e+09\n",
       "2        Delhi    1.120000e+09\n",
       "3    Telangana    1.000000e+09\n",
       "4  Maharashtra    7.694432e+08\n",
       "5   Tamil Nadu    5.000000e+08\n",
       "6  Uttarakhand    5.000000e+08\n",
       "7           DL    5.000000e+08\n",
       "8           MH    4.920000e+08\n",
       "9      Haryana    3.500000e+08"
      ]
     },
     "execution_count": 37,
     "metadata": {},
     "output_type": "execute_result"
    }
   ],
   "source": [
    "paidup_df = ind_df[['state', 'paidup_capital']]\n",
    "paidup_df = paidup_df.sort_values('paidup_capital',ascending= False) \n",
    "paidup_df.reset_index(drop=True,inplace=True)\n",
    "paidup_df = paidup_df.head(10)\n",
    "paidup_df "
   ]
  },
  {
   "cell_type": "code",
   "execution_count": 38,
   "metadata": {},
   "outputs": [
    {
     "data": {
      "text/plain": [
       "Text(0.5, 1.0, 'Highest paidup capital')"
      ]
     },
     "execution_count": 38,
     "metadata": {},
     "output_type": "execute_result"
    },
    {
     "data": {
      "image/png": "[encoded data removed]",
      "text/plain": [
       "<Figure size 1080x1440 with 1 Axes>"
      ]
     },
     "metadata": {},
     "output_type": "display_data"
    }
   ],
   "source": [
    "plt.figure(figsize=(15,20))\n",
    "plt.plot(paidup_df.state,paidup_df.paidup_capital, 'o--r');\n",
    "plt.xlabel('state')\n",
    "plt.ylabel('paidup capital')\n",
    "plt.title(\"Highest paidup capital\")"
   ]
  },
  {
   "cell_type": "markdown",
   "metadata": {},
   "source": [
    "Here we can see that the highest paidup capital is from Maharastra state and the trend between highest paidup capital and state can be seen in line plot."
   ]
  },
  {
   "cell_type": "markdown",
   "metadata": {},
   "source": [
    "#### Q2: How many companies form Telangana state?"
   ]
  },
  {
   "cell_type": "code",
   "execution_count": 39,
   "metadata": {},
   "outputs": [
    {
     "data": {
      "text/html": [
       "<div>\n",
       "<style scoped>\n",
       "    .dataframe tbody tr th:only-of-type {\n",
       "        vertical-align: middle;\n",
       "    }\n",
       "\n",
       "    .dataframe tbody tr th {\n",
       "        vertical-align: top;\n",
       "    }\n",
       "\n",
       "    .dataframe thead th {\n",
       "        text-align: right;\n",
       "    }\n",
       "</style>\n",
       "<table border=\"1\" class=\"dataframe\">\n",
       "  <thead>\n",
       "    <tr style=\"text-align: right;\">\n",
       "      <th></th>\n",
       "      <th>state</th>\n",
       "      <th>total count</th>\n",
       "    </tr>\n",
       "  </thead>\n",
       "  <tbody>\n",
       "    <tr>\n",
       "      <th>0</th>\n",
       "      <td>Maharashtra</td>\n",
       "      <td>7442</td>\n",
       "    </tr>\n",
       "    <tr>\n",
       "      <th>1</th>\n",
       "      <td>Uttar Pradesh</td>\n",
       "      <td>4239</td>\n",
       "    </tr>\n",
       "    <tr>\n",
       "      <th>2</th>\n",
       "      <td>Delhi</td>\n",
       "      <td>4090</td>\n",
       "    </tr>\n",
       "    <tr>\n",
       "      <th>3</th>\n",
       "      <td>Karnataka</td>\n",
       "      <td>3156</td>\n",
       "    </tr>\n",
       "    <tr>\n",
       "      <th>4</th>\n",
       "      <td>Telangana</td>\n",
       "      <td>2720</td>\n",
       "    </tr>\n",
       "    <tr>\n",
       "      <th>...</th>\n",
       "      <td>...</td>\n",
       "      <td>...</td>\n",
       "    </tr>\n",
       "    <tr>\n",
       "      <th>66</th>\n",
       "      <td>ML</td>\n",
       "      <td>2</td>\n",
       "    </tr>\n",
       "    <tr>\n",
       "      <th>67</th>\n",
       "      <td>MZ</td>\n",
       "      <td>2</td>\n",
       "    </tr>\n",
       "    <tr>\n",
       "      <th>68</th>\n",
       "      <td>LD</td>\n",
       "      <td>2</td>\n",
       "    </tr>\n",
       "    <tr>\n",
       "      <th>69</th>\n",
       "      <td>LH</td>\n",
       "      <td>1</td>\n",
       "    </tr>\n",
       "    <tr>\n",
       "      <th>70</th>\n",
       "      <td>Lakshadweep</td>\n",
       "      <td>1</td>\n",
       "    </tr>\n",
       "  </tbody>\n",
       "</table>\n",
       "<p>71 rows × 2 columns</p>\n",
       "</div>"
      ],
      "text/plain": [
       "            state  total count\n",
       "0     Maharashtra         7442\n",
       "1   Uttar Pradesh         4239\n",
       "2           Delhi         4090\n",
       "3       Karnataka         3156\n",
       "4       Telangana         2720\n",
       "..            ...          ...\n",
       "66             ML            2\n",
       "67             MZ            2\n",
       "68             LD            2\n",
       "69             LH            1\n",
       "70    Lakshadweep            1\n",
       "\n",
       "[71 rows x 2 columns]"
      ]
     },
     "execution_count": 39,
     "metadata": {},
     "output_type": "execute_result"
    }
   ],
   "source": [
    "ts_df = ind_df['state'].value_counts()\n",
    "ts_df = ts_df.reset_index()\n",
    "ts_df.columns = ['state', 'total count']\n",
    "ts_df"
   ]
  },
  {
   "cell_type": "code",
   "execution_count": 40,
   "metadata": {},
   "outputs": [
    {
     "data": {
      "text/plain": [
       "state          Telangana\n",
       "total count         2720\n",
       "Name: 4, dtype: object"
      ]
     },
     "execution_count": 40,
     "metadata": {},
     "output_type": "execute_result"
    }
   ],
   "source": [
    "ts_df.loc[4]"
   ]
  },
  {
   "cell_type": "markdown",
   "metadata": {},
   "source": [
    "There are a total of 2720 startup companies from Telangana state."
   ]
  },
  {
   "cell_type": "markdown",
   "metadata": {},
   "source": [
    "#### Q3: What is the total mean of authorized capital?"
   ]
  },
  {
   "cell_type": "code",
   "execution_count": 41,
   "metadata": {},
   "outputs": [
    {
     "data": {
      "text/plain": [
       "1617090.629577003"
      ]
     },
     "execution_count": 41,
     "metadata": {},
     "output_type": "execute_result"
    }
   ],
   "source": [
    "author_df = ind_df['authorized_capital'].mean()\n",
    "author_df"
   ]
  },
  {
   "cell_type": "markdown",
   "metadata": {},
   "source": [
    "Here the total mean of the authorized capital is around 1617090.6295 ."
   ]
  },
  {
   "cell_type": "markdown",
   "metadata": {},
   "source": [
    "#### Q4: How many companies has highest authozied and paidup capital?"
   ]
  },
  {
   "cell_type": "code",
   "execution_count": 42,
   "metadata": {},
   "outputs": [
    {
     "data": {
      "text/html": [
       "<div>\n",
       "<style scoped>\n",
       "    .dataframe tbody tr th:only-of-type {\n",
       "        vertical-align: middle;\n",
       "    }\n",
       "\n",
       "    .dataframe tbody tr th {\n",
       "        vertical-align: top;\n",
       "    }\n",
       "\n",
       "    .dataframe thead th {\n",
       "        text-align: right;\n",
       "    }\n",
       "</style>\n",
       "<table border=\"1\" class=\"dataframe\">\n",
       "  <thead>\n",
       "    <tr style=\"text-align: right;\">\n",
       "      <th></th>\n",
       "      <th>company_uid</th>\n",
       "      <th>authorized_capital</th>\n",
       "      <th>paidup_capital</th>\n",
       "    </tr>\n",
       "  </thead>\n",
       "  <tbody>\n",
       "    <tr>\n",
       "      <th>0</th>\n",
       "      <td>b928b473-d6d6-4b92-a63d-d262bf30c24b</td>\n",
       "      <td>1500000.0</td>\n",
       "      <td>102000.0</td>\n",
       "    </tr>\n",
       "    <tr>\n",
       "      <th>1</th>\n",
       "      <td>9696190f-7478-4d61-81f1-fc4eb08cce13</td>\n",
       "      <td>100000.0</td>\n",
       "      <td>3000.0</td>\n",
       "    </tr>\n",
       "    <tr>\n",
       "      <th>2</th>\n",
       "      <td>59de4ca1-c15f-4d6d-8de3-03319793c884</td>\n",
       "      <td>500000.0</td>\n",
       "      <td>500000.0</td>\n",
       "    </tr>\n",
       "    <tr>\n",
       "      <th>3</th>\n",
       "      <td>e28b4caa-b7f9-4faf-8bbe-b12028177417</td>\n",
       "      <td>1000000.0</td>\n",
       "      <td>10000.0</td>\n",
       "    </tr>\n",
       "    <tr>\n",
       "      <th>4</th>\n",
       "      <td>e1861c6f-c2a0-4a89-81e9-b39f11b1b6c6</td>\n",
       "      <td>500000.0</td>\n",
       "      <td>500000.0</td>\n",
       "    </tr>\n",
       "    <tr>\n",
       "      <th>...</th>\n",
       "      <td>...</td>\n",
       "      <td>...</td>\n",
       "      <td>...</td>\n",
       "    </tr>\n",
       "    <tr>\n",
       "      <th>54889</th>\n",
       "      <td>da22033b-93c5-460d-b08b-8d58c91b2052</td>\n",
       "      <td>100000.0</td>\n",
       "      <td>100000.0</td>\n",
       "    </tr>\n",
       "    <tr>\n",
       "      <th>54890</th>\n",
       "      <td>7d744075-e78f-45d0-9b9b-eaaf2b17a4d8</td>\n",
       "      <td>500000.0</td>\n",
       "      <td>1589455.0</td>\n",
       "    </tr>\n",
       "    <tr>\n",
       "      <th>54891</th>\n",
       "      <td>336796bb-6f67-4f4f-906e-f01605814266</td>\n",
       "      <td>500000.0</td>\n",
       "      <td>1589455.0</td>\n",
       "    </tr>\n",
       "    <tr>\n",
       "      <th>54892</th>\n",
       "      <td>e248cdb7-39a9-4b11-b7ff-b967f887cce0</td>\n",
       "      <td>500000.0</td>\n",
       "      <td>1589455.0</td>\n",
       "    </tr>\n",
       "    <tr>\n",
       "      <th>54893</th>\n",
       "      <td>53e5ee51-be3d-4acf-a3fc-e55f4b127aab</td>\n",
       "      <td>500000.0</td>\n",
       "      <td>1589455.0</td>\n",
       "    </tr>\n",
       "  </tbody>\n",
       "</table>\n",
       "<p>54894 rows × 3 columns</p>\n",
       "</div>"
      ],
      "text/plain": [
       "                                company_uid  authorized_capital  \\\n",
       "0      b928b473-d6d6-4b92-a63d-d262bf30c24b           1500000.0   \n",
       "1      9696190f-7478-4d61-81f1-fc4eb08cce13            100000.0   \n",
       "2      59de4ca1-c15f-4d6d-8de3-03319793c884            500000.0   \n",
       "3      e28b4caa-b7f9-4faf-8bbe-b12028177417           1000000.0   \n",
       "4      e1861c6f-c2a0-4a89-81e9-b39f11b1b6c6            500000.0   \n",
       "...                                     ...                 ...   \n",
       "54889  da22033b-93c5-460d-b08b-8d58c91b2052            100000.0   \n",
       "54890  7d744075-e78f-45d0-9b9b-eaaf2b17a4d8            500000.0   \n",
       "54891  336796bb-6f67-4f4f-906e-f01605814266            500000.0   \n",
       "54892  e248cdb7-39a9-4b11-b7ff-b967f887cce0            500000.0   \n",
       "54893  53e5ee51-be3d-4acf-a3fc-e55f4b127aab            500000.0   \n",
       "\n",
       "       paidup_capital  \n",
       "0            102000.0  \n",
       "1              3000.0  \n",
       "2            500000.0  \n",
       "3             10000.0  \n",
       "4            500000.0  \n",
       "...               ...  \n",
       "54889        100000.0  \n",
       "54890       1589455.0  \n",
       "54891       1589455.0  \n",
       "54892       1589455.0  \n",
       "54893       1589455.0  \n",
       "\n",
       "[54894 rows x 3 columns]"
      ]
     },
     "execution_count": 42,
     "metadata": {},
     "output_type": "execute_result"
    }
   ],
   "source": [
    "auth_paid_df = indian_startups[['company_uid', 'authorized_capital', 'paidup_capital']]\n",
    "auth_paid_df"
   ]
  },
  {
   "cell_type": "code",
   "execution_count": 43,
   "metadata": {
    "scrolled": true
   },
   "outputs": [
    {
     "data": {
      "text/html": [
       "<div>\n",
       "<style scoped>\n",
       "    .dataframe tbody tr th:only-of-type {\n",
       "        vertical-align: middle;\n",
       "    }\n",
       "\n",
       "    .dataframe tbody tr th {\n",
       "        vertical-align: top;\n",
       "    }\n",
       "\n",
       "    .dataframe thead th {\n",
       "        text-align: right;\n",
       "    }\n",
       "</style>\n",
       "<table border=\"1\" class=\"dataframe\">\n",
       "  <thead>\n",
       "    <tr style=\"text-align: right;\">\n",
       "      <th></th>\n",
       "      <th>company_uid</th>\n",
       "      <th>authorized_capital</th>\n",
       "      <th>paidup_capital</th>\n",
       "    </tr>\n",
       "  </thead>\n",
       "  <tbody>\n",
       "    <tr>\n",
       "      <th>0</th>\n",
       "      <td>cc2c13a1-1efa-4982-8985-b4795c91caf2</td>\n",
       "      <td>3.000000e+09</td>\n",
       "      <td>2.600000e+09</td>\n",
       "    </tr>\n",
       "    <tr>\n",
       "      <th>1</th>\n",
       "      <td>0d9227ff-a55f-4894-9270-14072772102e</td>\n",
       "      <td>2.156355e+09</td>\n",
       "      <td>2.156355e+09</td>\n",
       "    </tr>\n",
       "    <tr>\n",
       "      <th>2</th>\n",
       "      <td>6bb9e25e-c2c8-4c0c-9e0d-41e25c11269d</td>\n",
       "      <td>2.000000e+09</td>\n",
       "      <td>1.120000e+09</td>\n",
       "    </tr>\n",
       "    <tr>\n",
       "      <th>3</th>\n",
       "      <td>5dfd1837-7b18-4534-bb3a-d36deb20823f</td>\n",
       "      <td>1.000000e+09</td>\n",
       "      <td>1.000000e+09</td>\n",
       "    </tr>\n",
       "    <tr>\n",
       "      <th>4</th>\n",
       "      <td>a61f5edd-b622-481d-9b25-e2905ef3af79</td>\n",
       "      <td>7.694432e+08</td>\n",
       "      <td>7.694432e+08</td>\n",
       "    </tr>\n",
       "    <tr>\n",
       "      <th>5</th>\n",
       "      <td>39fe327f-dda7-43e2-8cae-45c0eb8b90ff</td>\n",
       "      <td>5.000000e+08</td>\n",
       "      <td>5.000000e+08</td>\n",
       "    </tr>\n",
       "    <tr>\n",
       "      <th>6</th>\n",
       "      <td>3d71fff8-a078-4cbc-b965-197dab1da9b9</td>\n",
       "      <td>5.000000e+08</td>\n",
       "      <td>5.000000e+08</td>\n",
       "    </tr>\n",
       "    <tr>\n",
       "      <th>7</th>\n",
       "      <td>136e5d32-c71b-4c56-be93-4b2d32093350</td>\n",
       "      <td>5.000000e+08</td>\n",
       "      <td>5.000000e+08</td>\n",
       "    </tr>\n",
       "    <tr>\n",
       "      <th>8</th>\n",
       "      <td>5eb42fab-e949-4fde-bba4-34f8b2e80a10</td>\n",
       "      <td>5.500000e+08</td>\n",
       "      <td>4.920000e+08</td>\n",
       "    </tr>\n",
       "    <tr>\n",
       "      <th>9</th>\n",
       "      <td>b42ca4fe-83b5-4942-a7ed-061365970929</td>\n",
       "      <td>4.000000e+08</td>\n",
       "      <td>3.500000e+08</td>\n",
       "    </tr>\n",
       "  </tbody>\n",
       "</table>\n",
       "</div>"
      ],
      "text/plain": [
       "                            company_uid  authorized_capital  paidup_capital\n",
       "0  cc2c13a1-1efa-4982-8985-b4795c91caf2        3.000000e+09    2.600000e+09\n",
       "1  0d9227ff-a55f-4894-9270-14072772102e        2.156355e+09    2.156355e+09\n",
       "2  6bb9e25e-c2c8-4c0c-9e0d-41e25c11269d        2.000000e+09    1.120000e+09\n",
       "3  5dfd1837-7b18-4534-bb3a-d36deb20823f        1.000000e+09    1.000000e+09\n",
       "4  a61f5edd-b622-481d-9b25-e2905ef3af79        7.694432e+08    7.694432e+08\n",
       "5  39fe327f-dda7-43e2-8cae-45c0eb8b90ff        5.000000e+08    5.000000e+08\n",
       "6  3d71fff8-a078-4cbc-b965-197dab1da9b9        5.000000e+08    5.000000e+08\n",
       "7  136e5d32-c71b-4c56-be93-4b2d32093350        5.000000e+08    5.000000e+08\n",
       "8  5eb42fab-e949-4fde-bba4-34f8b2e80a10        5.500000e+08    4.920000e+08\n",
       "9  b42ca4fe-83b5-4942-a7ed-061365970929        4.000000e+08    3.500000e+08"
      ]
     },
     "execution_count": 43,
     "metadata": {},
     "output_type": "execute_result"
    }
   ],
   "source": [
    "auth_paid_df = auth_paid_df.sort_values(['paidup_capital','authorized_capital'],axis=0,ascending= False)\n",
    "au_pa_df=auth_paid_df.head(10)\n",
    "au_pa_df = au_pa_df.reset_index(drop=True)\n",
    "au_pa_df"
   ]
  },
  {
   "cell_type": "markdown",
   "metadata": {},
   "source": [
    "The above dataframe consists of the companies that have highest authorized capital and paidup capital."
   ]
  },
  {
   "cell_type": "markdown",
   "metadata": {},
   "source": [
    "#### Q5: What is the trend between authorized and paidup capital?"
   ]
  },
  {
   "cell_type": "code",
   "execution_count": 44,
   "metadata": {},
   "outputs": [
    {
     "name": "stderr",
     "output_type": "stream",
     "text": [
      "/opt/conda/lib/python3.8/site-packages/seaborn/_decorators.py:36: FutureWarning: Pass the following variables as keyword args: x, y. From version 0.12, the only valid positional argument will be `data`, and passing other arguments without an explicit keyword will result in an error or misinterpretation.\n",
      "  warnings.warn(\n"
     ]
    },
    {
     "data": {
      "image/png": "[encoded data removed]",
      "text/plain": [
       "<Figure size 1080x504 with 1 Axes>"
      ]
     },
     "metadata": {},
     "output_type": "display_data"
    }
   ],
   "source": [
    "sns.set(rc={\"figure.figsize\":(15, 7)})\n",
    "sns.barplot('authorized_capital', 'paidup_capital', data=au_pa_df);"
   ]
  },
  {
   "cell_type": "markdown",
   "metadata": {},
   "source": [
    "Here we can see the trend between the authorized capital and paidup capital in a barplot."
   ]
  },
  {
   "cell_type": "code",
   "execution_count": 45,
   "metadata": {},
   "outputs": [],
   "source": [
    "import jovian"
   ]
  },
  {
   "cell_type": "code",
   "execution_count": 46,
   "metadata": {},
   "outputs": [
    {
     "data": {
      "application/javascript": [
       "window.require && require([\"base/js/namespace\"],function(Jupyter){Jupyter.notebook.save_checkpoint()})"
      ],
      "text/plain": [
       "<IPython.core.display.Javascript object>"
      ]
     },
     "metadata": {},
     "output_type": "display_data"
    },
    {
     "name": "stdout",
     "output_type": "stream",
     "text": [
      "[jovian] Attempting to save notebook..\u001b[0m\n",
      "[jovian] Updating notebook \"mekal-ug/mukhesh-course-project\" on https://jovian.ai\u001b[0m\n",
      "[jovian] Uploading notebook..\u001b[0m\n",
      "[jovian] Uploading additional files...\u001b[0m\n",
      "[jovian] Committed successfully! https://jovian.ai/mekal-ug/mukhesh-course-project\u001b[0m\n"
     ]
    },
    {
     "data": {
      "text/plain": [
       "'https://jovian.ai/mekal-ug/mukhesh-course-project'"
      ]
     },
     "execution_count": 46,
     "metadata": {},
     "output_type": "execute_result"
    }
   ],
   "source": [
    "jovian.commit()"
   ]
  },
  {
   "cell_type": "markdown",
   "metadata": {},
   "source": [
    "## Inferences and Conclusion"
   ]
  },
  {
   "cell_type": "markdown",
   "metadata": {},
   "source": [
    "- In this note book i have tried to analyze the data of startups in India in a certain period. \n",
    "- I choose this dataset from kaggle.com. \n",
    "- While working on this project, i researched lot of information regarding pandas and plots.\n",
    "- While doing this project i have realized that there is lot more to learn, iam excited to move forward in this journey of becoming a Data Analyst/Scientist.\n",
    "- I have refered to the pandas notebook and visulization notes from zero to pandas project to finish this project, i have done lot research  as well to the learn th concepts of pandas and numpy."
   ]
  },
  {
   "cell_type": "code",
   "execution_count": 48,
   "metadata": {},
   "outputs": [],
   "source": [
    "import jovian"
   ]
  },
  {
   "cell_type": "code",
   "execution_count": 49,
   "metadata": {},
   "outputs": [
    {
     "data": {
      "application/javascript": [
       "window.require && require([\"base/js/namespace\"],function(Jupyter){Jupyter.notebook.save_checkpoint()})"
      ],
      "text/plain": [
       "<IPython.core.display.Javascript object>"
      ]
     },
     "metadata": {},
     "output_type": "display_data"
    },
    {
     "name": "stdout",
     "output_type": "stream",
     "text": [
      "[jovian] Attempting to save notebook..\u001b[0m\n",
      "[jovian] Updating notebook \"mekal-ug/mukhesh-course-project\" on https://jovian.ai\u001b[0m\n",
      "[jovian] Uploading notebook..\u001b[0m\n",
      "[jovian] Uploading additional files...\u001b[0m\n",
      "[jovian] Committed successfully! https://jovian.ai/mekal-ug/mukhesh-course-project\u001b[0m\n"
     ]
    },
    {
     "data": {
      "text/plain": [
       "'https://jovian.ai/mekal-ug/mukhesh-course-project'"
      ]
     },
     "execution_count": 49,
     "metadata": {},
     "output_type": "execute_result"
    }
   ],
   "source": [
    "jovian.commit()"
   ]
  },
  {
   "cell_type": "markdown",
   "metadata": {},
   "source": [
    "## References and Future Work\n"
   ]
  },
  {
   "cell_type": "markdown",
   "metadata": {},
   "source": [
    "- https://www.kaggle.com/bhararthshiviah/indian-startups-2021(link to the dataset) \n",
    "- Numerical computing with Numpy: https://jovian.ml/aakashns/python-numerical-computing-with-numpy\n",
    "- Analyzing tabular data with Pandas: https://jovian.ml/aakashns/python-pandas-data-analysis\n",
    "- Matplotlib & Seaborn tutorial: https://jovian.ml/aakashns/python-matplotlib-data-visualization\n",
    "- Pandas user guide: https://pandas.pydata.org/docs/user_guide/index.html\n",
    "- Matplotlib user guide: https://matplotlib.org/3.3.1/users/index.html\n",
    "- Seaborn user guide & tutorial: https://seaborn.pydata.org/tutorial.html"
   ]
  },
  {
   "cell_type": "code",
   "execution_count": 50,
   "metadata": {},
   "outputs": [],
   "source": [
    "import jovian"
   ]
  },
  {
   "cell_type": "code",
   "execution_count": null,
   "metadata": {
    "scrolled": true
   },
   "outputs": [
    {
     "data": {
      "application/javascript": [
       "window.require && require([\"base/js/namespace\"],function(Jupyter){Jupyter.notebook.save_checkpoint()})"
      ],
      "text/plain": [
       "<IPython.core.display.Javascript object>"
      ]
     },
     "metadata": {},
     "output_type": "display_data"
    },
    {
     "name": "stdout",
     "output_type": "stream",
     "text": [
      "[jovian] Attempting to save notebook..\u001b[0m\n"
     ]
    }
   ],
   "source": [
    "jovian.commit()"
   ]
  },
  {
   "cell_type": "code",
   "execution_count": null,
   "metadata": {},
   "outputs": [],
   "source": []
  }
 ],
 "metadata": {
  "language_info": {
   "codemirror_mode": {
    "name": "ipython",
    "version": 3
   },
   "file_extension": ".py",
   "mimetype": "text/x-python",
   "name": "python",
   "nbconvert_exporter": "python",
   "pygments_lexer": "ipython3",
   "version": "3.8.6"
  }
 },
 "nbformat": 4,
 "nbformat_minor": 4
}